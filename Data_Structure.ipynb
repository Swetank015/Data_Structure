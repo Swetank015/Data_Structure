{
  "nbformat": 4,
  "nbformat_minor": 0,
  "metadata": {
    "colab": {
      "provenance": []
    },
    "kernelspec": {
      "name": "python3",
      "display_name": "Python 3"
    },
    "language_info": {
      "name": "python"
    }
  },
  "cells": [
    {
      "cell_type": "markdown",
      "source": [
        "1. **Discuss string slicing and provide examples.**\n",
        "\n",
        "Ans. String slicing is a powerful technique in Python that allows you to extract specific portions of a string. It involves specifying a range of indices, and Python returns a new string containing the characters within that range.\n",
        "\n",
        "\n",
        "Basic Syntax:\n",
        "\n",
        "string[start:end:step]"
      ],
      "metadata": {
        "id": "hEvJ8MqPn6A3"
      }
    },
    {
      "cell_type": "code",
      "source": [
        "string = \"Hello, World!\"\n",
        "\n",
        "# Extract characters from index 0 (inclusive) to index 5 (exclusive)\n",
        "substring = string[0:5]\n",
        "print(substring)  # Output: Hello"
      ],
      "metadata": {
        "colab": {
          "base_uri": "https://localhost:8080/"
        },
        "id": "jX5BfH2WohR9",
        "outputId": "45ce24f7-6e3b-4421-dd65-5e765896bc3c"
      },
      "execution_count": 1,
      "outputs": [
        {
          "output_type": "stream",
          "name": "stdout",
          "text": [
            "Hello\n"
          ]
        }
      ]
    },
    {
      "cell_type": "markdown",
      "source": [
        "2.  **Explain the key Features of lists in Python.**\n",
        "\n",
        "Ans. Lists are one of the most versatile data structures in Python, providing a flexible way to store and manipulate collections of elements.\n",
        "\n",
        "1. **Ordered Sequence :**\n",
        "\n",
        " **Indexing:** Elements in a list are ordered, allowing you to access them using their index (starting from 0).\n",
        "\n",
        " **Slicing:** You can extract subsets of a list using slicing, which involves specifying a range of indices.\n",
        "\n",
        "2. **Mutable :**\n",
        "Modification: Elements in a list can be changed after creation. You can add, remove, or modify elements using various methods.\n",
        "\n",
        "3. **Heterogeneous :**\n",
        "Mixed Data Types: Lists can contain elements of different data types (e.g., integers, strings, floats, even other lists).\n",
        "4. **Dynamic Size:**\n",
        "Growth and Shrinkage: Lists can grow or shrink dynamically as needed, allowing you to add or remove elements without specifying a fixed size upfront.\n",
        "\n",
        "5. **Built-in Methods:**   \n",
        "Rich Functionality: Python provides a variety of built-in methods for working with lists, such as:\n",
        "\n",
        "**append():** Adds an element to the end of the list.\n",
        "\n",
        "**insert():** Inserts an element at a specified index.\n",
        "\n",
        "**remove():** Removes the first occurrence of a specified element.\n",
        "\n",
        "**pop():** Removes and returns the element at a specified index (or the last element if no index is provided).\n",
        "\n",
        "**extend():** Appends the elements of another list to the end of the current list.\n",
        "\n",
        "**index():** Returns the index of the first occurrence of a specified element.\n",
        "\n",
        "**count():** Returns the number of times a specified element appears in the list.\n",
        "\n",
        "**sort():** Sorts the elements of the list in ascending order.\n",
        "\n",
        "**reverse():** Reverses the order of the elements in the list.\n",
        "\n",
        "6. **Nested Lists :**\n",
        "\n",
        " Complex Structures: Lists can contain other lists, creating nested structures for representing more complex data."
      ],
      "metadata": {
        "id": "JUzcNesWowH3"
      }
    },
    {
      "cell_type": "code",
      "source": [
        "my_list = [10, \"hello\", 3.14, [1, 2, 3]]\n",
        "\n",
        "# Accessing elements:\n",
        "print(my_list[0])  # Output: 10\n",
        "print(my_list[-1])  # Output: [1, 2, 3]\n",
        "\n",
        "# Modifying elements:\n",
        "my_list[1] = \"world\"\n",
        "print(my_list)  # Output: [10, 'world', 3.14, [1, 2, 3]]\n",
        "\n",
        "# Adding elements:\n",
        "my_list.append(5)\n",
        "print(my_list)  # Output: [10, 'world', 3.14, [1, 2, 3], 5]\n",
        "\n",
        "# Removing elements:\n",
        "my_list.remove(\"world\")\n",
        "print(my_list)  # Output: [10, 3.14, [1, 2, 3], 5]"
      ],
      "metadata": {
        "id": "EuQ6RA4Gug8i"
      },
      "execution_count": null,
      "outputs": []
    },
    {
      "cell_type": "markdown",
      "source": [
        "Q 3.** Describe how to access, modify and delete elements in a list with examples.**\n",
        "\n",
        "Ans. *Accessing Elements*\n",
        "\n",
        " *  **Indexing:** Use square brackets to access elements by their index (starting from 0).\n"
      ],
      "metadata": {
        "id": "XgWskjagvN-v"
      }
    },
    {
      "cell_type": "code",
      "source": [
        "my_list = [1, 2, 3, 4, 5]\n",
        "first_element = my_list[0]  # Access the first element\n",
        "last_element = my_list[-1]  # Access the last element"
      ],
      "metadata": {
        "id": "e0EUxwAHxcwn"
      },
      "execution_count": null,
      "outputs": []
    },
    {
      "cell_type": "markdown",
      "source": [
        "* **Slicing:** Extract a range of elements using slicing."
      ],
      "metadata": {
        "id": "11nU6t5fxyFS"
      }
    },
    {
      "cell_type": "code",
      "source": [
        "sublist = my_list[1:4]  # Extract elements from index 1 to 3 (exclusive)"
      ],
      "metadata": {
        "id": "y2G7El_kx8J5"
      },
      "execution_count": null,
      "outputs": []
    },
    {
      "cell_type": "markdown",
      "source": [
        "*Modifying Elements*:\n",
        "\n",
        "* **Direct Assignment :** Assign a new value to a specific element."
      ],
      "metadata": {
        "id": "9XQMtKA3x-Vf"
      }
    },
    {
      "cell_type": "code",
      "source": [
        "my_list[2] = 10"
      ],
      "metadata": {
        "id": "akS8JUgmySHm"
      },
      "execution_count": null,
      "outputs": []
    },
    {
      "cell_type": "markdown",
      "source": [
        "*Using Methods*\n",
        " * append(): Adds an element to the end of the list."
      ],
      "metadata": {
        "id": "qAzefvnnyTZO"
      }
    },
    {
      "cell_type": "code",
      "source": [
        "my_list.append(6)"
      ],
      "metadata": {
        "id": "yGDbXkeCynH1"
      },
      "execution_count": null,
      "outputs": []
    },
    {
      "cell_type": "markdown",
      "source": [
        "* insert(): Inserts an element at a specified index"
      ],
      "metadata": {
        "id": "iGgK2tClyqEE"
      }
    },
    {
      "cell_type": "code",
      "source": [
        "my_list.insert(2, 7)"
      ],
      "metadata": {
        "id": "t2pRgmGHyuk7"
      },
      "execution_count": null,
      "outputs": []
    },
    {
      "cell_type": "markdown",
      "source": [
        "* extend(): Appends elements of another list."
      ],
      "metadata": {
        "id": "KxmSd4M6yxRw"
      }
    },
    {
      "cell_type": "code",
      "source": [
        "other_list = [7, 8, 9]\n",
        "my_list.extend(other_list)"
      ],
      "metadata": {
        "id": "lAA58qwgyzhI"
      },
      "execution_count": null,
      "outputs": []
    },
    {
      "cell_type": "markdown",
      "source": [
        "*Deleting  Elements*\n",
        "\n",
        "* **Using del :**"
      ],
      "metadata": {
        "id": "PV_xjK3xy1qk"
      }
    },
    {
      "cell_type": "code",
      "source": [
        "del my_list[3]  # Delete the element at index 3"
      ],
      "metadata": {
        "id": "8Rlzsmd0zRuQ"
      },
      "execution_count": null,
      "outputs": []
    },
    {
      "cell_type": "markdown",
      "source": [
        "* Using pop(): Removes and returns an element."
      ],
      "metadata": {
        "id": "Au6dU5a_zXmI"
      }
    },
    {
      "cell_type": "code",
      "source": [
        "removed_element = my_list.pop(1)  # Remove and return the element at index 1"
      ],
      "metadata": {
        "id": "vY3A7EtwzeCU"
      },
      "execution_count": null,
      "outputs": []
    },
    {
      "cell_type": "markdown",
      "source": [
        "* Using remove(): Removes the first occurrence of a specified element."
      ],
      "metadata": {
        "id": "4AwdliQLzi4-"
      }
    },
    {
      "cell_type": "code",
      "source": [
        "my_list.remove(3)  # Remove the first occurrence of 3"
      ],
      "metadata": {
        "id": "tu9yIlAZzmTd"
      },
      "execution_count": null,
      "outputs": []
    },
    {
      "cell_type": "code",
      "source": [
        "my_list = [1, 2, 3, 4, 5]\n",
        "\n",
        "# Access elements\n",
        "print(my_list[0])  # Output: 1\n",
        "print(my_list[-1])  # Output: 5\n",
        "print(my_list[1:3])  # Output: [2, 3]\n",
        "\n",
        "# Modify elements\n",
        "my_list[2] = 10\n",
        "my_list.append(6)\n",
        "my_list.insert(3, 7)\n",
        "other_list = [7, 8, 9]\n",
        "my_list.extend(other_list)\n",
        "\n",
        "# Delete elements\n",
        "del my_list[3]\n",
        "removed_element = my_list.pop(1)\n",
        "my_list.remove(3)\n",
        "\n",
        "print(my_list)  # Output: [1, 7, 10, 8, 9, 6]"
      ],
      "metadata": {
        "id": "vm-Tui_2ztgS"
      },
      "execution_count": null,
      "outputs": []
    },
    {
      "cell_type": "markdown",
      "source": [
        "4. **Compare and contrast tuples and lists with examples.**\n",
        "\n",
        "Ans.**Tuples vs. Lists:** A Comparison\n",
        "Tuples and lists are both ordered sequences of elements in Python, but they have key differences in their mutability and usage.\n",
        "\n",
        "**Mutability**\n",
        "\n",
        "* Lists: Mutable, meaning their elements can be changed, added, or removed after creation.\n",
        "* Tuples: Immutable, meaning their elements cannot be modified once created.\n",
        "\n",
        "**Syntax**\n",
        "\n",
        "* Lists: Enclosed in square brackets [].\n",
        "* Tuples: Enclosed in parentheses ().\n",
        "\n",
        "**Use Cases**\n",
        "\n",
        "**Lists:**\n",
        "\n",
        "* Dynamic data structures where elements need to be modified.\n",
        "\n",
        "* Storing and manipulating collections of items.\n",
        "\n",
        "* Implementing algorithms and data structures.\n",
        "\n",
        "**Tuples:**\n",
        "\n",
        "* Representing immutable data, such as coordinates, dates, or configuration settings.\n",
        "* Creating keys for dictionaries.\n",
        "* Returning multiple values from functions.\n",
        "\n"
      ],
      "metadata": {
        "id": "9RxZEBRqzvuM"
      }
    },
    {
      "cell_type": "markdown",
      "source": [
        "**Example:**\n",
        "\n",
        "**List :**"
      ],
      "metadata": {
        "id": "PBRe3m5h60jm"
      }
    },
    {
      "cell_type": "code",
      "source": [
        "my_list = [1, 2, 3, \"hello\"]\n",
        "my_list[2] = 10  # Modifying an element\n",
        "my_list.append(4)  # Adding an element"
      ],
      "metadata": {
        "id": "ORT2Agj74zhj"
      },
      "execution_count": null,
      "outputs": []
    },
    {
      "cell_type": "markdown",
      "source": [
        "**Tuple :**"
      ],
      "metadata": {
        "id": "BtaY9ttg4_f7"
      }
    },
    {
      "cell_type": "code",
      "source": [
        "my_tuple = (1, 2, 3, \"hello\")\n",
        "# my_tuple[2] = 10  # This will raise an error as tuples are immutable"
      ],
      "metadata": {
        "id": "KKXcJlpt40xy"
      },
      "execution_count": null,
      "outputs": []
    },
    {
      "cell_type": "markdown",
      "source": [
        "Q5. ** Describe the key features of sets and provide examples of their use.**\n",
        "\n",
        "Ans. Sets are unordered collections of unique elements. They are used to store and manipulate data without duplicates. Here are the key features of sets:\n",
        "\n",
        "* Unordered: Elements in a set do not have a specific order.\n",
        "\n",
        "* Unique: Each element in a set must be unique. Duplicate elements are automatically removed.\n",
        "\n",
        "* Mutable: Sets can be modified after creation by adding or removing elements\n",
        "\n",
        "* No Indexing: Elements in a set cannot be accessed by index, as they are\n",
        "unordered.\n",
        "\n",
        "* Iteration: Elements in a set can be iterated over using a loop.\n",
        "\n",
        "* Set Operations: Sets support various mathematical operations, such as union, intersection, difference, and symmetric difference\n",
        "\n",
        "Example of Set Usage\n",
        "\n",
        "Creating Sets\n",
        "\n",
        "\n"
      ],
      "metadata": {
        "id": "GdV0ME197HuI"
      }
    },
    {
      "cell_type": "code",
      "source": [
        "my_set = {1, 2, 3, 4}\n",
        "empty_set = set()"
      ],
      "metadata": {
        "id": "Lr7wld6z-XXG"
      },
      "execution_count": null,
      "outputs": []
    },
    {
      "cell_type": "markdown",
      "source": [
        "Adding and Removing Elements:"
      ],
      "metadata": {
        "id": "vecKg1ZV-bGp"
      }
    },
    {
      "cell_type": "code",
      "source": [
        "my_set.add(5)  # Add an element\n",
        "my_set.remove(2)  # Remove an element (raises an error if not found)\n",
        "my_set.discard(6)  # Remove an element if present (no error if not found)"
      ],
      "metadata": {
        "id": "MC1wGyiS-det"
      },
      "execution_count": null,
      "outputs": []
    },
    {
      "cell_type": "markdown",
      "source": [
        "Set Operations:"
      ],
      "metadata": {
        "id": "bYgTll2w-iAA"
      }
    },
    {
      "cell_type": "code",
      "source": [
        "set1 = {1, 2, 3}\n",
        "set2 = {2, 3, 4}\n",
        "\n",
        "# Union: Combine all elements from both sets\n",
        "union_set = set1 | set2  # Or: union_set = set1.union(set2)\n",
        "\n",
        "# Intersection: Find elements common to both sets\n",
        "intersection_set = set1 & set2  # Or: intersection_set = set1.intersection(set2)\n",
        "\n",
        "# Difference: Find elements in set1 but not in set2\n",
        "difference_set = set1 - set2  # Or: difference_set = set1.difference(set2)\n",
        "\n",
        "# Symmetric Difference: Find elements in either set but not both\n",
        "symmetric_difference_set = set1 ^ set2  # Or: symmetric_difference_set = set1.symmetric_difference(set2)"
      ],
      "metadata": {
        "id": "GYuvRNB4-lj0"
      },
      "execution_count": null,
      "outputs": []
    },
    {
      "cell_type": "markdown",
      "source": [
        "Checking for Membership:"
      ],
      "metadata": {
        "id": "bvbd49Ic-qMv"
      }
    },
    {
      "cell_type": "code",
      "source": [
        "if 3 in my_set:\n",
        "    print(\"3 is in the set\")"
      ],
      "metadata": {
        "id": "_2sXanHN-sEJ"
      },
      "execution_count": null,
      "outputs": []
    },
    {
      "cell_type": "markdown",
      "source": [
        "Finding Length:"
      ],
      "metadata": {
        "id": "wO0GL_ah-vFJ"
      }
    },
    {
      "cell_type": "code",
      "source": [
        "length = len(my_set)"
      ],
      "metadata": {
        "id": "yug1ktzY-w6g"
      },
      "execution_count": null,
      "outputs": []
    },
    {
      "cell_type": "markdown",
      "source": [
        "**Use Cases For Sets**\n",
        "\n",
        "* **Removing duplicates:** Sets are ideal for removing duplicate elements from a list or tuple.\n",
        "\n",
        "* **Membership testing:** Quickly check if an element is present in a set.\n",
        "\n",
        "* **Mathematical operations:** Perform set operations like union, intersection, difference, and symmetric difference.\n",
        "\n",
        "* **Data analysis:** Analyze and compare sets of data."
      ],
      "metadata": {
        "id": "fjTbHtzf-1cA"
      }
    },
    {
      "cell_type": "markdown",
      "source": [
        "**Q6**.** Discuss the use cases of tuples and sets in Python programming.**\n",
        "\n",
        "Ans. Tuples are immutable sequences of elements, making them ideal for scenarios where data needs to be protected from accidental modification. Here are some common use cases\n",
        "\n",
        "* Representing immutable data:\n",
        "\n",
        "  * Coordinates: (x, y)\n",
        "  \n",
        "  * Dates: (year, month, day)\n",
        "\n",
        "  * Configuration settings: (host, port, database)\n",
        "\n",
        "\n",
        "* Creating keys for dictionaries:\n",
        "\n",
        " * Tuples can be used as keys in dictionaries due to their immutability.\n",
        "\n",
        " * For example: my_dict = {(1, 2): \"value\", (3, 4): \"another value\"}\n",
        "\n",
        "\n",
        "* Returning multiple values from functions:\n",
        "\n",
        " * Functions can return multiple values as a tuple.\n",
        "\n",
        "*For Example*\n"
      ],
      "metadata": {
        "id": "u0nwvMqM_wGh"
      }
    },
    {
      "cell_type": "code",
      "source": [
        "def divide(a, b):\n",
        "    return a / b, a % b\n",
        "\n",
        "quotient, remainder = divide(10, 3)"
      ],
      "metadata": {
        "id": "vl7A0ojGCo0a"
      },
      "execution_count": 3,
      "outputs": []
    },
    {
      "cell_type": "code",
      "source": [
        "divide(10,3)"
      ],
      "metadata": {
        "colab": {
          "base_uri": "https://localhost:8080/"
        },
        "id": "v9aOrYCXCpsX",
        "outputId": "6a0eaa7f-a8bd-4c34-fdf9-932211774642"
      },
      "execution_count": 4,
      "outputs": [
        {
          "output_type": "execute_result",
          "data": {
            "text/plain": [
              "(3.3333333333333335, 1)"
            ]
          },
          "metadata": {},
          "execution_count": 4
        }
      ]
    },
    {
      "cell_type": "markdown",
      "source": [
        "* Unpacking values:\n",
        "\n",
        " * Tuples can be unpacked into individual variables.\n",
        "\n",
        " For example:"
      ],
      "metadata": {
        "id": "w6AZTsqLFW6H"
      }
    },
    {
      "cell_type": "code",
      "source": [
        "coordinates = (10, 20)\n",
        "x, y = coordinates"
      ],
      "metadata": {
        "id": "HL6ZlgdcFlso"
      },
      "execution_count": null,
      "outputs": []
    },
    {
      "cell_type": "markdown",
      "source": [
        "* Sets\n",
        "\n",
        " Sets are unordered collections of unique elements, making them useful for operations involving membership testing, removing duplicates, and performing set operations. Here are some common use cases:\n",
        "\n",
        "* Removing duplicates:\n",
        " * Convert a list to a set to remove duplicates.\n",
        " For example:"
      ],
      "metadata": {
        "id": "lDKbUh9tFquM"
      }
    },
    {
      "cell_type": "code",
      "source": [
        "my_list = [1, 2, 3, 2, 4, 1]\n",
        "my_set = set(my_list)  # my_set will contain {1, 2, 3, 4}"
      ],
      "metadata": {
        "id": "NNInxh9-F_fJ"
      },
      "execution_count": 5,
      "outputs": []
    },
    {
      "cell_type": "code",
      "source": [
        "my_set"
      ],
      "metadata": {
        "colab": {
          "base_uri": "https://localhost:8080/"
        },
        "id": "BPLw5m-3GBWG",
        "outputId": "96373ca2-e878-4680-804c-f7ac1a551ab1"
      },
      "execution_count": 7,
      "outputs": [
        {
          "output_type": "execute_result",
          "data": {
            "text/plain": [
              "{1, 2, 3, 4}"
            ]
          },
          "metadata": {},
          "execution_count": 7
        }
      ]
    },
    {
      "cell_type": "markdown",
      "source": [
        "* Membership testing:\n",
        " * Quickly check if an element exists in a set.\n",
        "For example:"
      ],
      "metadata": {
        "id": "aKeSN8VXGRbw"
      }
    },
    {
      "cell_type": "code",
      "source": [
        "my_set = {1, 2, 3}\n",
        "if 2 in my_set:\n",
        "    print(\"2 is in the set\")"
      ],
      "metadata": {
        "colab": {
          "base_uri": "https://localhost:8080/"
        },
        "id": "pk2IyXI9Gamf",
        "outputId": "0e342f98-3572-4258-bbe1-4b370b0dfbc4"
      },
      "execution_count": 8,
      "outputs": [
        {
          "output_type": "stream",
          "name": "stdout",
          "text": [
            "2 is in the set\n"
          ]
        }
      ]
    },
    {
      "cell_type": "markdown",
      "source": [
        "* Set operations:\n",
        "\n",
        " * Perform operations like union, intersection, difference, and symmetric difference on sets.\n",
        " * For example:"
      ],
      "metadata": {
        "id": "1EJmir8oGqK5"
      }
    },
    {
      "cell_type": "code",
      "source": [
        "set1 = {1, 2, 3}\n",
        "set2 = {2, 3, 4}\n",
        "union_set = set1 | set2  # Union of set1 and set2"
      ],
      "metadata": {
        "id": "m3h7MRlVGk0h"
      },
      "execution_count": 9,
      "outputs": []
    },
    {
      "cell_type": "code",
      "source": [
        "union_set"
      ],
      "metadata": {
        "colab": {
          "base_uri": "https://localhost:8080/"
        },
        "id": "JQIitYHIG4F0",
        "outputId": "64232c84-4b09-4fce-c432-31a52385365c"
      },
      "execution_count": 10,
      "outputs": [
        {
          "output_type": "execute_result",
          "data": {
            "text/plain": [
              "{1, 2, 3, 4}"
            ]
          },
          "metadata": {},
          "execution_count": 10
        }
      ]
    },
    {
      "cell_type": "markdown",
      "source": [
        "* Data analysis:\n",
        " * Analyze and compare sets of data."
      ],
      "metadata": {
        "id": "J9V343Y0HFBN"
      }
    },
    {
      "cell_type": "markdown",
      "source": [
        "In summary, tuples are ideal for representing immutable data and creating keys for dictionaries, while sets are useful for removing duplicates, membership testing, and performing set operations. The choice between tuples and sets depends on the specific requirements of your application."
      ],
      "metadata": {
        "id": "acHIMZXnHRqh"
      }
    },
    {
      "cell_type": "markdown",
      "source": [
        "Q7. **Describe how to address modify and delete items in a dictionary with examples**.\n",
        "\n",
        "Ans. Dictionaries in Python are key-value pairs, where each key is associated with a corresponding value. To access, modify, or delete items in a dictionary, you use the key.\n",
        "\n",
        "Accessing Items\n",
        "\n",
        "* Using the key\n"
      ],
      "metadata": {
        "id": "0hnWGO5nHVf1"
      }
    },
    {
      "cell_type": "code",
      "source": [
        "my_dict = {\"name\": \"Alice\", \"age\": 30, \"city\": \"New York\"}\n",
        "name = my_dict[\"name\"]  # Access the value associated with the key \"name\""
      ],
      "metadata": {
        "id": "tmtppw5lhNg2"
      },
      "execution_count": null,
      "outputs": []
    },
    {
      "cell_type": "markdown",
      "source": [
        "* Using the get() method: The get() method provides a more flexible way to access values, allowing you to specify a default value if the key doesn't exist."
      ],
      "metadata": {
        "id": "L-dthMxJhWAz"
      }
    },
    {
      "cell_type": "code",
      "source": [
        "age = my_dict.get(\"age\", 0)  # Access the value associated with \"age\", or 0 if it doesn't exist"
      ],
      "metadata": {
        "id": "WYHuE62Thlwn"
      },
      "execution_count": null,
      "outputs": []
    },
    {
      "cell_type": "markdown",
      "source": [
        "* Modifying Items\n",
        " * Direct assignment:"
      ],
      "metadata": {
        "id": "mMtlt4YqhyAB"
      }
    },
    {
      "cell_type": "code",
      "source": [
        "my_dict[\"age\"] = 31  # Modify the value associated with the key \"age\""
      ],
      "metadata": {
        "id": "AbZlw5I4kNu_"
      },
      "execution_count": null,
      "outputs": []
    },
    {
      "cell_type": "markdown",
      "source": [
        "* Using the update() method: You can update multiple items at once using the update() method."
      ],
      "metadata": {
        "id": "fdisHFLQkQT3"
      }
    },
    {
      "cell_type": "code",
      "source": [
        "my_dict.update({\"city\": \"Los Angeles\", \"country\": \"USA\"})"
      ],
      "metadata": {
        "id": "4lg5yWE5kYWu"
      },
      "execution_count": null,
      "outputs": []
    },
    {
      "cell_type": "markdown",
      "source": [
        "* Deleting Items\n",
        " * Using the del keyword:"
      ],
      "metadata": {
        "id": "QzXeDrvcka-i"
      }
    },
    {
      "cell_type": "code",
      "source": [
        "del my_dict[\"city\"]  # Delete the item with the key \"city\""
      ],
      "metadata": {
        "id": "ylWw5r32kgFZ"
      },
      "execution_count": null,
      "outputs": []
    },
    {
      "cell_type": "markdown",
      "source": [
        "* Using the pop() method: The pop() method removes an item and returns its value."
      ],
      "metadata": {
        "id": "SYnzWimLkn1L"
      }
    },
    {
      "cell_type": "code",
      "source": [
        "age = my_dict.pop(\"age\")  # Remove the item with the key \"age\" and return its value"
      ],
      "metadata": {
        "id": "Iff6Oe9XkqNd"
      },
      "execution_count": null,
      "outputs": []
    },
    {
      "cell_type": "markdown",
      "source": [
        "Example :"
      ],
      "metadata": {
        "id": "cdPhyK_0krvg"
      }
    },
    {
      "cell_type": "code",
      "source": [
        "my_dict = {\"name\": \"Alice\", \"age\": 30, \"city\": \"New York\"}\n",
        "\n",
        "# Accessing items\n",
        "name = my_dict[\"name\"]\n",
        "age = my_dict.get(\"age\", 0)\n",
        "\n",
        "# Modifying items\n",
        "my_dict[\"age\"] = 31\n",
        "my_dict.update({\"city\": \"Los Angeles\", \"country\": \"USA\"})\n",
        "\n",
        "# Deleting items\n",
        "del my_dict[\"city\"]\n",
        "age = my_dict.pop(\"age\")\n",
        "\n",
        "print(my_dict)  # Output: {'name': 'Alice', 'country': 'USA'}"
      ],
      "metadata": {
        "id": "0ThExsIYkw1m"
      },
      "execution_count": null,
      "outputs": []
    },
    {
      "cell_type": "markdown",
      "source": [
        "Q8. **Discuss the importance of dictionary keys being immmutable and provide examples.**\n",
        "\n",
        "Ans. In Python, dictionary keys must be immutable objects. This means that they cannot be changed after they are created. While this might seem restrictive, it has several crucial benefits:\n",
        "\n",
        "1. **Hashing Efficiency:**\n",
        "\n",
        "*  Consistent Hash Values: Immutable objects have consistent hash values. This allows dictionaries to efficiently store and retrieve key-value pairs using hashing algorithms.\n",
        "* Performance: Consistent hashing ensures that keys always map to the same memory location, improving lookup speed.\n",
        "\n",
        "2. **Data Integrity:**\n",
        "\n",
        "* Preventing Accidental Changes: Immutable keys prevent accidental modifications that could corrupt the dictionary's structure.\n",
        "\n",
        "* Reliable Data Retrieval: Knowing that keys won't change ensures that you can always retrieve the correct value associated with a given key.\n",
        "\n",
        "3. **Key Comparison:**\n",
        "\n",
        "* Efficient Comparisons :   Immutable objects can be compared efficiently using the is operator, which checks for object identity rather than equality. This is essential for dictionary operations like membership testing and key comparisons.\n",
        "\n",
        "**Examples of Immutable Objects as Keys:**\n",
        "\n",
        "  Numbers: Integers, floats, and complex numbers are immutable.\n",
        "\n",
        "  Strings: Strings are also immutable.\n",
        "\n",
        "  Tuples: Tuples are immutable collections of elements.\n",
        "\n",
        "  Frozen sets: Frozen sets are immutable sets.\n",
        "\n"
      ],
      "metadata": {
        "id": "ZkD4Rx_1k0qi"
      }
    }
  ]
}